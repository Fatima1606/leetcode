{
  "cells": [
    {
      "cell_type": "code",
      "execution_count": 10,
      "metadata": {
        "id": "VOm4fyCKy7df"
      },
      "outputs": [],
      "source": [
        "#Given two integers num1 and num2, return the sum of the two integers.\n",
        "class Solution:\n",
        "    def sum(self, num1: int, num2: int) -> int:\n",
        "        result = num1 + num2\n",
        "        return result"
      ]
    },
    {
      "cell_type": "code",
      "execution_count": 11,
      "metadata": {
        "colab": {
          "base_uri": "https://localhost:8080/"
        },
        "id": "wI55brPmzHxn",
        "outputId": "f40f82b3-c72d-4437-ead5-33fdb33f121c"
      },
      "outputs": [
        {
          "name": "stdout",
          "output_type": "stream",
          "text": [
            "Leftover money: 0\n"
          ]
        }
      ],
      "source": [
        "#You are given an integer array prices representing the prices of various chocolates in a store. You are also given a single integer money, which represents your initial amount of money.\n",
        "from typing import List\n",
        "\n",
        "class Solution:\n",
        "    def buyChoco(self, prices: List[int], money: int) -> int:\n",
        "\n",
        "        prices.sort()\n",
        "        min_cost = prices[0] + prices[1]\n",
        "\n",
        "        if min_cost <= money:\n",
        "            return money - min_cost\n",
        "        else:\n",
        "            return money\n",
        "sol = Solution()\n",
        "result = sol.buyChoco([1, 2, 2], 3)\n",
        "print(\"Leftover money:\", result)\n"
      ]
    },
    {
      "cell_type": "code",
      "execution_count": 12,
      "metadata": {
        "id": "GSmFSYia9Mtu"
      },
      "outputs": [],
      "source": [
        "#Given an integer n, return true if it is a power of two. Otherwise, return false.\n",
        "#An integer n is a power of two, if there exists an integer x such that n == 2x.\n",
        "class Solution:\n",
        "    def isPowerOfTwo(self, n: int) -> bool:\n",
        "        if n <= 0:\n",
        "            return False\n",
        "\n",
        "        while n % 2 == 0:\n",
        "            n = n // 2\n",
        "\n",
        "        return n == 1\n"
      ]
    },
    {
      "cell_type": "code",
      "execution_count": 13,
      "metadata": {
        "id": "uuOoGJ5u_zNq"
      },
      "outputs": [],
      "source": [
        "#Given two integer arrays nums1 and nums2, return an array of their intersection. Each element in the result must be unique and you may return the result in any order.\n",
        "class Solution:\n",
        "    def intersection(self, nums1: List[int], nums2: List[int]) -> List[int]:\n",
        "        set1 = set(nums1)\n",
        "        set2 = set(nums2)\n",
        "        result = list(set1 & set2)\n",
        "        return result\n"
      ]
    },
    {
      "cell_type": "code",
      "execution_count": 14,
      "metadata": {
        "id": "Qsk8a6R3NjIR"
      },
      "outputs": [],
      "source": [
        "#Given three integer arrays nums1, nums2, and nums3, return a distinct array containing all the values that are present in at least two out of the three arrays. You may return the values in any order.\n",
        "class Solution:\n",
        "    def twoOutOfThree(self, nums1: List[int], nums2: List[int], nums3: List[int]) -> List[int]:\n",
        "        from collections import defaultdict  # to count frequency easily\n",
        "\n",
        "        count = defaultdict(int)\n",
        "\n",
        "        # Use set() to avoid duplicate values from same list\n",
        "        for num in set(nums1):\n",
        "            count[num] += 1\n",
        "        for num in set(nums2):\n",
        "            count[num] += 1\n",
        "        for num in set(nums3):\n",
        "            count[num] += 1\n",
        "\n",
        "        result = []\n",
        "        for num in count:\n",
        "            if count[num] >= 2:\n",
        "                result.append(num)\n",
        "\n",
        "        return result\n",
        "# This is a test change for pull request practice"
      ]
    }
  ],
  "metadata": {
    "colab": {
      "provenance": []
    },
    "kernelspec": {
      "display_name": "Python 3",
      "name": "python3"
    },
    "language_info": {
      "name": "python"
    }
  },
  "nbformat": 4,
  "nbformat_minor": 0
}
