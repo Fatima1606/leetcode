{
  "nbformat": 4,
  "nbformat_minor": 0,
  "metadata": {
    "colab": {
      "provenance": []
    },
    "kernelspec": {
      "name": "python3",
      "display_name": "Python 3"
    },
    "language_info": {
      "name": "python"
    }
  },
  "cells": [
    {
      "cell_type": "code",
      "execution_count": 1,
      "metadata": {
        "id": "IG5P_DElZUNI"
      },
      "outputs": [],
      "source": [
        "#Given an array of integers nums and an integer target, return indices of the two numbers such that they add up to target.\n",
        "#You may assume that each input would have exactly one solution, and you may not use the same element twice.\n",
        "class Solution(object):\n",
        "    def twoSum(self, nums, target):\n",
        "        \"\"\"\n",
        "        :type nums: List[int]\n",
        "        :type target: int\n",
        "        :rtype: List[int]\n",
        "        \"\"\"\n",
        "        for i in range(len(nums)):\n",
        "            for j in range(i + 1, len(nums)):\n",
        "                if nums[i] + nums[j] == target:\n",
        "                    return [i, j]"
      ]
    },
    {
      "cell_type": "code",
      "source": [
        "#Given an integer x, return true if x is a palindrome, and false otherwise.\n",
        "class Solution:\n",
        "    def isPalindrome(self, x: int) -> bool:\n",
        "        x_str = str(x)\n",
        "        return x_str == x_str[::-1]\n",
        ""
      ],
      "metadata": {
        "id": "Ti-dIT02afoo"
      },
      "execution_count": 2,
      "outputs": []
    },
    {
      "cell_type": "code",
      "source": [
        "#Roman numerals are represented by seven different symbols: I, V, X, L, C, D and M.\n",
        "#Given a roman numeral, convert it to an integer.\n",
        "class Solution:\n",
        "    def romanToInt(self, s: str) -> int:\n",
        "        roman = {\n",
        "            'I': 1,\n",
        "            'V': 5,\n",
        "            'X': 10,\n",
        "            'L': 50,\n",
        "            'C': 100,\n",
        "            'D': 500,\n",
        "            'M': 1000\n",
        "        }\n",
        "\n",
        "        total = 0\n",
        "        i = 0\n",
        "\n",
        "        while i < len(s):\n",
        "\n",
        "            if i + 1 < len(s) and roman[s[i]] < roman[s[i + 1]]:\n",
        "                total += roman[s[i + 1]] - roman[s[i]]\n",
        "                i += 2\n",
        "            else:\n",
        "                total += roman[s[i]]\n",
        "                i += 1\n",
        "\n",
        "        return total\n",
        ""
      ],
      "metadata": {
        "id": "FgMhfMd_a1GV"
      },
      "execution_count": 3,
      "outputs": []
    },
    {
      "cell_type": "code",
      "source": [
        "#Write a function to find the longest common prefix string amongst an array of strings.\n",
        "#If there is no common prefix, return an empty string \"\".\n",
        "from typing import List\n",
        "class Solution:\n",
        "    def longestCommonPrefix(self, strs: List[str]) -> str:\n",
        "        if not strs:\n",
        "            return \"\"\n",
        "\n",
        "        for i in range(len(strs[0])):\n",
        "            for s in strs[1:]:\n",
        "                if i >= len(s) or s[i] != strs[0][i]:\n",
        "                    return strs[0][:i]\n",
        "\n",
        "        return strs[0]\n",
        "\n",
        ""
      ],
      "metadata": {
        "id": "0_i9NNa7bXdk"
      },
      "execution_count": 7,
      "outputs": []
    },
    {
      "cell_type": "code",
      "source": [
        "#Given a string s containing just the characters '(', ')', '{', '}', '[' and ']', determine if the input string is valid.\n",
        "class Solution:\n",
        "    def isValid(self, s: str) -> bool:\n",
        "        stack = []\n",
        "        pairs = {'(': ')', '[': ']', '{': '}'}\n",
        "\n",
        "        for char in s:\n",
        "            if char in pairs:\n",
        "                stack.append(char)\n",
        "            else:\n",
        "                if not stack or pairs[stack.pop()] != char:\n",
        "                    return False\n",
        "\n",
        "        return not stack\n",
        "\n",
        ""
      ],
      "metadata": {
        "id": "8w3ro6-Yb2k2"
      },
      "execution_count": 6,
      "outputs": []
    }
  ]
}